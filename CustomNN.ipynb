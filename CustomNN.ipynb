{
  "cells": [
    {
      "cell_type": "code",
      "execution_count": 5,
      "metadata": {
        "colab": {
          "base_uri": "https://localhost:8080/",
          "height": 676
        },
        "id": "QzoKusBJSaeR",
        "outputId": "e44a6bee-7a29-45fb-b50e-f412fb1ed6d8"
      },
      "outputs": [
        {
          "data": {
            "text/html": [
              "<div>\n",
              "<style scoped>\n",
              "    .dataframe tbody tr th:only-of-type {\n",
              "        vertical-align: middle;\n",
              "    }\n",
              "\n",
              "    .dataframe tbody tr th {\n",
              "        vertical-align: top;\n",
              "    }\n",
              "\n",
              "    .dataframe thead th {\n",
              "        text-align: right;\n",
              "    }\n",
              "</style>\n",
              "<table border=\"1\" class=\"dataframe\">\n",
              "  <thead>\n",
              "    <tr style=\"text-align: right;\">\n",
              "      <th></th>\n",
              "      <th>age</th>\n",
              "      <th>affordibility</th>\n",
              "      <th>predictedInsurance</th>\n",
              "    </tr>\n",
              "  </thead>\n",
              "  <tbody>\n",
              "    <tr>\n",
              "      <th>0</th>\n",
              "      <td>22</td>\n",
              "      <td>1</td>\n",
              "      <td>1</td>\n",
              "    </tr>\n",
              "    <tr>\n",
              "      <th>1</th>\n",
              "      <td>23</td>\n",
              "      <td>1</td>\n",
              "      <td>1</td>\n",
              "    </tr>\n",
              "    <tr>\n",
              "      <th>2</th>\n",
              "      <td>24</td>\n",
              "      <td>1</td>\n",
              "      <td>1</td>\n",
              "    </tr>\n",
              "    <tr>\n",
              "      <th>3</th>\n",
              "      <td>25</td>\n",
              "      <td>1</td>\n",
              "      <td>1</td>\n",
              "    </tr>\n",
              "    <tr>\n",
              "      <th>4</th>\n",
              "      <td>26</td>\n",
              "      <td>1</td>\n",
              "      <td>0</td>\n",
              "    </tr>\n",
              "    <tr>\n",
              "      <th>5</th>\n",
              "      <td>27</td>\n",
              "      <td>1</td>\n",
              "      <td>1</td>\n",
              "    </tr>\n",
              "    <tr>\n",
              "      <th>6</th>\n",
              "      <td>28</td>\n",
              "      <td>0</td>\n",
              "      <td>1</td>\n",
              "    </tr>\n",
              "    <tr>\n",
              "      <th>7</th>\n",
              "      <td>29</td>\n",
              "      <td>0</td>\n",
              "      <td>0</td>\n",
              "    </tr>\n",
              "    <tr>\n",
              "      <th>8</th>\n",
              "      <td>30</td>\n",
              "      <td>0</td>\n",
              "      <td>0</td>\n",
              "    </tr>\n",
              "    <tr>\n",
              "      <th>9</th>\n",
              "      <td>31</td>\n",
              "      <td>0</td>\n",
              "      <td>0</td>\n",
              "    </tr>\n",
              "    <tr>\n",
              "      <th>10</th>\n",
              "      <td>32</td>\n",
              "      <td>0</td>\n",
              "      <td>0</td>\n",
              "    </tr>\n",
              "    <tr>\n",
              "      <th>11</th>\n",
              "      <td>33</td>\n",
              "      <td>1</td>\n",
              "      <td>1</td>\n",
              "    </tr>\n",
              "    <tr>\n",
              "      <th>12</th>\n",
              "      <td>34</td>\n",
              "      <td>1</td>\n",
              "      <td>0</td>\n",
              "    </tr>\n",
              "    <tr>\n",
              "      <th>13</th>\n",
              "      <td>35</td>\n",
              "      <td>1</td>\n",
              "      <td>1</td>\n",
              "    </tr>\n",
              "    <tr>\n",
              "      <th>14</th>\n",
              "      <td>36</td>\n",
              "      <td>0</td>\n",
              "      <td>0</td>\n",
              "    </tr>\n",
              "    <tr>\n",
              "      <th>15</th>\n",
              "      <td>37</td>\n",
              "      <td>0</td>\n",
              "      <td>0</td>\n",
              "    </tr>\n",
              "    <tr>\n",
              "      <th>16</th>\n",
              "      <td>38</td>\n",
              "      <td>0</td>\n",
              "      <td>1</td>\n",
              "    </tr>\n",
              "    <tr>\n",
              "      <th>17</th>\n",
              "      <td>39</td>\n",
              "      <td>1</td>\n",
              "      <td>1</td>\n",
              "    </tr>\n",
              "    <tr>\n",
              "      <th>18</th>\n",
              "      <td>40</td>\n",
              "      <td>1</td>\n",
              "      <td>0</td>\n",
              "    </tr>\n",
              "    <tr>\n",
              "      <th>19</th>\n",
              "      <td>41</td>\n",
              "      <td>0</td>\n",
              "      <td>0</td>\n",
              "    </tr>\n",
              "  </tbody>\n",
              "</table>\n",
              "</div>"
            ],
            "text/plain": [
              "    age  affordibility  predictedInsurance\n",
              "0    22              1                   1\n",
              "1    23              1                   1\n",
              "2    24              1                   1\n",
              "3    25              1                   1\n",
              "4    26              1                   0\n",
              "5    27              1                   1\n",
              "6    28              0                   1\n",
              "7    29              0                   0\n",
              "8    30              0                   0\n",
              "9    31              0                   0\n",
              "10   32              0                   0\n",
              "11   33              1                   1\n",
              "12   34              1                   0\n",
              "13   35              1                   1\n",
              "14   36              0                   0\n",
              "15   37              0                   0\n",
              "16   38              0                   1\n",
              "17   39              1                   1\n",
              "18   40              1                   0\n",
              "19   41              0                   0"
            ]
          },
          "execution_count": 5,
          "metadata": {},
          "output_type": "execute_result"
        }
      ],
      "source": [
        "import pandas as pd\n",
        "import numpy as np\n",
        "from tensorflow import keras\n",
        "from sklearn.model_selection import train_test_split\n",
        "\n",
        "table = {\n",
        "    \"age\": [\n",
        "        22, 23, 24, 25, 26, 27, 28, 29, 30, 31,\n",
        "        32, 33, 34, 35, 36, 37, 38, 39, 40, 41\n",
        "    ],\n",
        "    \"affordibility\": [\n",
        "        1, 1, 1, 1, 1, 1, 0, 0, 0, 0,\n",
        "        0, 1, 1, 1, 0, 0, 0, 1, 1, 0\n",
        "    ],\n",
        "    \"predictedInsurance\": [\n",
        "        1, 1, 1, 1, 0, 1, 1, 0, 0, 0,\n",
        "        0, 1, 0, 1, 0, 0, 1, 1, 0, 0\n",
        "    ]\n",
        "}\n",
        "\n",
        "\n",
        "\n",
        "df=pd.DataFrame(table)\n",
        "df"
      ]
    },
    {
      "cell_type": "code",
      "execution_count": 6,
      "metadata": {
        "id": "i1TE6GfuUG0T"
      },
      "outputs": [],
      "source": [
        "def sigmoid_numpy(n):\n",
        "  return 1/(1+np.exp(-n))"
      ]
    },
    {
      "cell_type": "code",
      "execution_count": 7,
      "metadata": {
        "id": "zjx5-5OdUrRL"
      },
      "outputs": [],
      "source": [
        "def log_loss(y_true, y_predicted):\n",
        "    epsilon = 1e-15\n",
        "    y_predicted_new = [max(i,epsilon) for i in y_predicted]\n",
        "    y_predicted_new = [min(i,1-epsilon) for i in y_predicted_new]\n",
        "    y_predicted_new = np.array(y_predicted_new)\n",
        "    return -np.mean(y_true*np.log(y_predicted_new)+(1-y_true)*np.log(1-y_predicted_new))"
      ]
    },
    {
      "cell_type": "code",
      "execution_count": 8,
      "metadata": {
        "id": "P2BCOZruWBQE"
      },
      "outputs": [],
      "source": [
        "class NN:\n",
        "  def __init__(self):\n",
        "    self.w1=1\n",
        "    self.w2=1\n",
        "    self.bias=0\n",
        "\n",
        "\n",
        "  def fit(self,X,y,epochs,loss_thresold):\n",
        "    self.w1,self.w2,self.bias=self.gradient_descent(X['age'],X['affordibility'],y,epochs,loss_thresold)\n",
        "    print(f\"Final weights and bias: w1: {self.w1}, w2: {self.w2}, bias: {self.bias}\")\n",
        "\n",
        "\n",
        "  def predict(self,X_test):\n",
        "    weighted_sum=self.w1*X_test['age']+self.w2*X_test['affordibility']+self.bias\n",
        "    return sigmoid_numpy(weighted_sum)\n",
        "\n",
        "\n",
        "\n",
        "  def gradient_descent(self,age,affordibility,y,epochs,loss_thresold):\n",
        "    self.w1=1\n",
        "    self.w2=1\n",
        "    self.bias=0\n",
        "    rate=0.1\n",
        "    n=len(age)\n",
        "    for i in range(epochs):\n",
        "      weighted_sum=self.w1*age+self.w2*affordibility+self.bias\n",
        "      y_predicted=sigmoid_numpy(weighted_sum)\n",
        "      loss=log_loss(y,y_predicted)\n",
        "      w1d=(1/n)*np.dot(np.transpose(age),(y_predicted-y))\n",
        "      w2d=(1/n)*np.dot(np.transpose(affordibility),(y_predicted-y))\n",
        "\n",
        "      bias_d=np.mean(y_predicted-y)\n",
        "      self.w1=self.w1-rate*w1d\n",
        "      self.w2=self.w2-rate*w2d\n",
        "      self.bias=self.bias-rate*bias_d\n",
        "\n",
        "      if i%50==0:\n",
        "        print (f'Epoch:{i}, w1:{self.w1}, w2:{self.w2}, bias:{self.bias}, loss:{loss}')\n",
        "\n",
        "      if loss<=loss_thresold:\n",
        "        print (f'Epoch:{i}, w1:{self.w1}, w2:{self.w2}, bias:{self.bias}, loss:{loss}')\n",
        "        break\n",
        "\n",
        "\n",
        "    return self.w1,self.w2,self.bias"
      ]
    },
    {
      "cell_type": "code",
      "execution_count": 9,
      "metadata": {
        "id": "3jw0_sHDYX1L"
      },
      "outputs": [],
      "source": [
        "X_train, X_test, y_train, y_test=train_test_split(df[[\"age\",\"affordibility\"]],df.predictedInsurance,test_size=0.2,random_state=42)\n",
        "X_train_scaled = X_train.copy()\n",
        "X_train_scaled['age'] = X_train_scaled['age'] / 100\n",
        "\n",
        "X_test_scaled = X_test.copy()\n",
        "X_test_scaled['age'] = X_test_scaled['age'] / 100\n",
        "\n"
      ]
    },
    {
      "cell_type": "code",
      "execution_count": 10,
      "metadata": {
        "colab": {
          "base_uri": "https://localhost:8080/",
          "height": 175
        },
        "id": "N07gQjWHbTaH",
        "outputId": "d73fc6a4-4627-45f6-a31d-09fa09fbc846"
      },
      "outputs": [
        {
          "data": {
            "text/html": [
              "<div>\n",
              "<style scoped>\n",
              "    .dataframe tbody tr th:only-of-type {\n",
              "        vertical-align: middle;\n",
              "    }\n",
              "\n",
              "    .dataframe tbody tr th {\n",
              "        vertical-align: top;\n",
              "    }\n",
              "\n",
              "    .dataframe thead th {\n",
              "        text-align: right;\n",
              "    }\n",
              "</style>\n",
              "<table border=\"1\" class=\"dataframe\">\n",
              "  <thead>\n",
              "    <tr style=\"text-align: right;\">\n",
              "      <th></th>\n",
              "      <th>age</th>\n",
              "      <th>affordibility</th>\n",
              "    </tr>\n",
              "  </thead>\n",
              "  <tbody>\n",
              "    <tr>\n",
              "      <th>0</th>\n",
              "      <td>0.22</td>\n",
              "      <td>1</td>\n",
              "    </tr>\n",
              "    <tr>\n",
              "      <th>17</th>\n",
              "      <td>0.39</td>\n",
              "      <td>1</td>\n",
              "    </tr>\n",
              "    <tr>\n",
              "      <th>15</th>\n",
              "      <td>0.37</td>\n",
              "      <td>0</td>\n",
              "    </tr>\n",
              "    <tr>\n",
              "      <th>1</th>\n",
              "      <td>0.23</td>\n",
              "      <td>1</td>\n",
              "    </tr>\n",
              "  </tbody>\n",
              "</table>\n",
              "</div>"
            ],
            "text/plain": [
              "     age  affordibility\n",
              "0   0.22              1\n",
              "17  0.39              1\n",
              "15  0.37              0\n",
              "1   0.23              1"
            ]
          },
          "execution_count": 10,
          "metadata": {},
          "output_type": "execute_result"
        }
      ],
      "source": [
        "X_test_scaled"
      ]
    },
    {
      "cell_type": "code",
      "execution_count": 11,
      "metadata": {
        "colab": {
          "base_uri": "https://localhost:8080/"
        },
        "id": "VRFNHlkFbHM5",
        "outputId": "690eeb36-d368-4172-8e3f-0d2dd22e2783"
      },
      "outputs": [
        {
          "name": "stdout",
          "output_type": "stream",
          "text": [
            "Epoch:0, w1:0.991442964330132, w2:0.991923269849246, bias:-0.024677953918281384, loss:0.7651710640150847\n",
            "Epoch:50, w1:0.7469784113199511, w2:0.8719500771328396, bias:-0.6826068306099186, loss:0.6399266453798415\n",
            "Epoch:100, w1:0.6540399843749051, w2:0.9736998485467715, bias:-0.866507308815219, loss:0.6283739727688287\n",
            "Epoch:150, w1:0.5942598158713434, w2:1.0927515920612252, bias:-0.9496435662634394, loss:0.6233625741555991\n",
            "Epoch:200, w1:0.5447062298248442, w2:1.1946285963821295, bias:-1.0037997569515622, loss:0.6201760919045185\n",
            "Epoch:250, w1:0.5004429912737623, w2:1.2774887911732435, bias:-1.0439420570850528, loss:0.6180685201465133\n",
            "Epoch:300, w1:0.45989662576205903, w2:1.3443268904029182, bias:-1.0745295525113936, loss:0.6166462287693271\n",
            "Epoch:350, w1:0.4222456691290634, w2:1.398255886947978, bias:-1.097754797162487, loss:0.6156648593060421\n",
            "Epoch:400, w1:0.38691881212606793, w2:1.4418443136517496, bias:-1.1151070397761564, loss:0.6149696660390567\n",
            "Epoch:450, w1:0.3534773187116029, w2:1.4771318562636346, bias:-1.1277238123333038, loss:0.614461600368327\n",
            "Epoch:500, w1:0.3215739669113647, w2:1.505732712800518, bias:-1.1365052311543715, loss:0.6140766953255687\n",
            "Epoch:550, w1:0.290930920896008, w2:1.5289293095032872, bias:-1.1421722683425661, loss:0.6137733244505914\n",
            "Epoch:600, w1:0.2613245907010352, w2:1.54774558180949, bias:-1.1453057973584737, loss:0.6135242243410326\n",
            "Epoch:650, w1:0.23257433052399615, w2:1.5630029010408741, bias:-1.1463756144507329, loss:0.613311441780835\n",
            "Epoch:700, w1:0.20453373863883945, w2:1.5753628303067437, bias:-1.1457627950253388, loss:0.6131231006527305\n",
            "Epoch:750, w1:0.17708386479492472, w2:1.5853600614764878, bias:-1.143777181720423, loss:0.6129513149989231\n",
            "Epoch:800, w1:0.1501278589960853, w2:1.5934280045189935, bias:-1.140671190139925, loss:0.6127908317419637\n",
            "Epoch:850, w1:0.12358672641082757, w2:1.599918828599506, bias:-1.1366507823664809, loss:0.6126381422906433\n",
            "Epoch:900, w1:0.09739594030107178, w2:1.6051192716702134, bias:-1.131884238106847, loss:0.6124908979003048\n",
            "Epoch:950, w1:0.07150272634933945, w2:1.6092631915174218, bias:-1.1265091983672904, loss:0.6123475231786557\n",
            "Final weights and bias: w1: 0.04637440091821108, w2: 1.6124834385797506, bias: -1.1207599935156487\n"
          ]
        }
      ],
      "source": [
        "customModel=NN()\n",
        "customModel.fit(X_train_scaled,y_train,epochs=1000,loss_thresold=0.4631)"
      ]
    },
    {
      "cell_type": "code",
      "execution_count": 12,
      "metadata": {
        "colab": {
          "base_uri": "https://localhost:8080/",
          "height": 209
        },
        "id": "hjp7J_x3af54",
        "outputId": "8edc6aef-4f3e-4f69-b073-cbb6ce005a71"
      },
      "outputs": [
        {
          "data": {
            "text/plain": [
              "0     0.622912\n",
              "17    0.624762\n",
              "15    0.249066\n",
              "1     0.623021\n",
              "dtype: float64"
            ]
          },
          "execution_count": 12,
          "metadata": {},
          "output_type": "execute_result"
        }
      ],
      "source": [
        "customModel.predict(X_test_scaled)"
      ]
    },
    {
      "cell_type": "code",
      "execution_count": 13,
      "metadata": {},
      "outputs": [
        {
          "data": {
            "text/plain": [
              "0     1\n",
              "17    1\n",
              "15    0\n",
              "1     1\n",
              "dtype: int32"
            ]
          },
          "execution_count": 13,
          "metadata": {},
          "output_type": "execute_result"
        }
      ],
      "source": [
        "y_predicted_scaled = customModel.predict(X_test_scaled)\n",
        "y_predicted = (y_predicted_scaled > 0.5).astype(int)\n",
        "y_predicted"
      ]
    },
    {
      "cell_type": "code",
      "execution_count": 14,
      "metadata": {
        "colab": {
          "base_uri": "https://localhost:8080/"
        },
        "id": "d08f1f0a",
        "outputId": "f563b9f6-1311-4fd5-bf83-3ba8357a7e86"
      },
      "outputs": [
        {
          "name": "stdout",
          "output_type": "stream",
          "text": [
            "Accuracy of the model: 1.0\n"
          ]
        }
      ],
      "source": [
        "y_predicted_scaled = customModel.predict(X_test_scaled)\n",
        "y_predicted = (y_predicted_scaled > 0.5).astype(int)\n",
        "\n",
        "from sklearn.metrics import accuracy_score\n",
        "accuracy = accuracy_score(y_test, y_predicted)\n",
        "print(f\"Accuracy of the model: {accuracy}\")"
      ]
    }
  ],
  "metadata": {
    "colab": {
      "provenance": []
    },
    "kernelspec": {
      "display_name": "Python 3",
      "name": "python3"
    },
    "language_info": {
      "codemirror_mode": {
        "name": "ipython",
        "version": 3
      },
      "file_extension": ".py",
      "mimetype": "text/x-python",
      "name": "python",
      "nbconvert_exporter": "python",
      "pygments_lexer": "ipython3",
      "version": "3.12.3"
    }
  },
  "nbformat": 4,
  "nbformat_minor": 0
}
